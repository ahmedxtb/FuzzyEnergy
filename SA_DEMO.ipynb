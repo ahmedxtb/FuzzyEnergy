{
 "cells": [
  {
   "cell_type": "markdown",
   "metadata": {},
   "source": [
    "## This example shows Simulated Anealing on the benchmark data. \n",
    "http://decsai.ugr.es/~casillas/fmlib/ele2-4-1056.html"
   ]
  },
  {
   "cell_type": "code",
   "execution_count": 1,
   "metadata": {
    "collapsed": false
   },
   "outputs": [],
   "source": [
    "import numpy as np\n",
    "import csv\n",
    "import os\n",
    "import sys\n",
    "import matplotlib.pyplot as plt\n",
    "\n",
    "# add path of needed code\n",
    "sys.path.append(os.getcwd()+'/Code/')\n",
    "\n",
    "from Fuzzification import cluster, scale\n",
    "import FIS\n",
    "\n",
    "%matplotlib inline"
   ]
  },
  {
   "cell_type": "code",
   "execution_count": 2,
   "metadata": {
    "collapsed": false
   },
   "outputs": [],
   "source": [
    "def read_elec_data(path, file):\n",
    "    '''\n",
    "    Reads in the data and returns it\n",
    "    as a float type numpy array\n",
    "    '''\n",
    "    data_train= []\n",
    "    with open(path+file) as file:\n",
    "        reader = file.readlines()\n",
    "        for row in reader:\n",
    "            row = row.split()\n",
    "            data_train.append([float(x) for x in row])\n",
    "    return np.array(data_train)\n",
    "\n",
    "def read_gas_data(path, file):\n",
    "    '''\n",
    "    Reads in the gas data and returns it\n",
    "    as a float type numpy array.\n",
    "    Formats are in csv and the first two\n",
    "    columns (row ID and date) are removed\n",
    "    '''\n",
    "    data_train= []\n",
    "    with open(path+file+'.csv') as csvfile:\n",
    "        reader = csv.reader(csvfile, delimiter=',')\n",
    "        for row in reader:\n",
    "            try:\n",
    "                data_train.append([float(x) for x in row[2:]])\n",
    "            except: \n",
    "                header = row\n",
    "                print(header[2:])\n",
    "                ValueError\n",
    "    return np.array(data_train)"
   ]
  },
  {
   "cell_type": "code",
   "execution_count": 117,
   "metadata": {
    "collapsed": false
   },
   "outputs": [],
   "source": [
    "path = 'Data/elec/'\n",
    "file = 'ele2-4-1056-5.tra'\n",
    "data = read_elec_data(path, file)\n",
    "# The target column of your data\n",
    "target_col = -1 # last column"
   ]
  },
  {
   "cell_type": "code",
   "execution_count": 143,
   "metadata": {
    "collapsed": false
   },
   "outputs": [],
   "source": [
    "# specify overlap of your sets, or the variance of the gaussian\n",
    "overlap = 0.01\n",
    "# Gaussian, triangle or trapezoid\n",
    "mf = 'Gaussian'\n",
    "# number of clusters per feature\n",
    "Ncentroids = [10, 15, 25, 25, 45]\n",
    "# A name for the FIS file\n",
    "FIS_name='Demo_WM_elec'"
   ]
  },
  {
   "cell_type": "markdown",
   "metadata": {},
   "source": [
    "## First test without SA"
   ]
  },
  {
   "cell_type": "code",
   "execution_count": 144,
   "metadata": {
    "collapsed": false
   },
   "outputs": [],
   "source": [
    "# train the FIS \n",
    "FIS.train(FIS_name, data, target_col, mf, Ncentroids, overlap)"
   ]
  },
  {
   "cell_type": "code",
   "execution_count": 145,
   "metadata": {
    "collapsed": false
   },
   "outputs": [],
   "source": [
    "# read in the trained FIS\n",
    "method, mf, overlap, target_centroids, feature_centroids, RB = FIS.read(FIS_name +'.FIS')"
   ]
  },
  {
   "cell_type": "code",
   "execution_count": 146,
   "metadata": {
    "collapsed": false
   },
   "outputs": [],
   "source": [
    "# test the trained fis\n",
    "path = 'Data/elec/'\n",
    "file = 'ele2-4-1056-5.tst'\n",
    "test_data = read_elec_data(path, file)"
   ]
  },
  {
   "cell_type": "code",
   "execution_count": 147,
   "metadata": {
    "collapsed": false
   },
   "outputs": [
    {
     "name": "stdout",
     "output_type": "stream",
     "text": [
      "('The RMSE is: ', 131.29436424173034)\n",
      "('The MAE is: ', 84.651633317499844)\n",
      "('The number of rules is ', 225)\n"
     ]
    }
   ],
   "source": [
    "RMSE, MAE, _ = FIS.test(test_data, mf, overlap, target_centroids, feature_centroids, RB, target_col)\n",
    "print('The RMSE is: ', RMSE)\n",
    "print('The MAE is: ' , MAE)\n",
    "print('The number of rules is ', len(RB))"
   ]
  },
  {
   "cell_type": "markdown",
   "metadata": {},
   "source": [
    "## Test with SA, with a rule reduction of 20%"
   ]
  },
  {
   "cell_type": "code",
   "execution_count": 155,
   "metadata": {
    "collapsed": false
   },
   "outputs": [],
   "source": [
    "# specify SA properties\n",
    "sa_alpha = 0.8\n",
    "sa_flag = True\n",
    "sa_iterations = 200\n",
    "sa_plot = True\n",
    "# A name for the FIS file\n",
    "FIS_name='Demo_SA_elec'"
   ]
  },
  {
   "cell_type": "code",
   "execution_count": 156,
   "metadata": {
    "collapsed": false
   },
   "outputs": [
    {
     "data": {
      "image/png": "[encoded data removed]",
      "text/plain": [
       "<matplotlib.figure.Figure at 0x10d893c90>"
      ]
     },
     "metadata": {},
     "output_type": "display_data"
    }
   ],
   "source": [
    "# train the FIS \n",
    "FIS.train(FIS_name, data, target_col, mf, Ncentroids, overlap, \n",
    "          alpha = sa_alpha , sa = sa_flag, iterations = sa_iterations, sa_plot = sa_plot)"
   ]
  },
  {
   "cell_type": "code",
   "execution_count": 157,
   "metadata": {
    "collapsed": true
   },
   "outputs": [],
   "source": [
    "# read in the trained FIS\n",
    "method, mf, overlap, target_centroids, feature_centroids, RB = FIS.read(FIS_name +'.FIS')"
   ]
  },
  {
   "cell_type": "code",
   "execution_count": 158,
   "metadata": {
    "collapsed": false
   },
   "outputs": [
    {
     "name": "stdout",
     "output_type": "stream",
     "text": [
      "('The RMSE is: ', 223.8113941415605)\n",
      "('The MAE is: ', 124.82971727965916)\n",
      "('The number of rules is ', 180)\n"
     ]
    }
   ],
   "source": [
    "RMSE, MAE, _ = FIS.test(test_data, mf, overlap, target_centroids, feature_centroids, RB, target_col)\n",
    "print('The RMSE is: ', RMSE)\n",
    "print('The MAE is: ' , MAE)\n",
    "print('The number of rules is ' , len(RB))"
   ]
  },
  {
   "cell_type": "code",
   "execution_count": null,
   "metadata": {
    "collapsed": true
   },
   "outputs": [],
   "source": []
  }
 ],
 "metadata": {
  "anaconda-cloud": {},
  "kernelspec": {
   "display_name": "Python [default]",
   "language": "python",
   "name": "python2"
  },
  "language_info": {
   "codemirror_mode": {
    "name": "ipython",
    "version": 2
   },
   "file_extension": ".py",
   "mimetype": "text/x-python",
   "name": "python",
   "nbconvert_exporter": "python",
   "pygments_lexer": "ipython2",
   "version": "2.7.12"
  }
 },
 "nbformat": 4,
 "nbformat_minor": 1
}
