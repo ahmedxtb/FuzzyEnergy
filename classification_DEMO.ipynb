{
 "cells": [
  {
   "cell_type": "markdown",
   "metadata": {},
   "source": [
    "## This notebook demonstrates the usage of the Fuzzy Inference System pipeline. It traines a FIS on the gas consumption data and shows the performance on a small test batch. "
   ]
  },
  {
   "cell_type": "code",
   "execution_count": 1,
   "metadata": {
    "collapsed": false
   },
   "outputs": [],
   "source": [
    "import numpy as np\n",
    "import csv\n",
    "import os\n",
    "import sys\n",
    "import matplotlib.pyplot as plt\n",
    "\n",
    "# add path of needed code\n",
    "sys.path.append(os.getcwd()+'/Code/')\n",
    "\n",
    "from Fuzzification import cluster, scale\n",
    "import FIS\n",
    "\n",
    "%matplotlib inline"
   ]
  },
  {
   "cell_type": "code",
   "execution_count": 2,
   "metadata": {
    "collapsed": true
   },
   "outputs": [],
   "source": [
    "def read_data(path, file):\n",
    "    '''\n",
    "    Reads in the gas data and returns it\n",
    "    as a float type numpy array.\n",
    "    Formats are in csv and the first two\n",
    "    columns (row ID and date) are removed\n",
    "    '''\n",
    "    data_train= []\n",
    "    with open(path+file+'.csv') as csvfile:\n",
    "        reader = csv.reader(csvfile, delimiter=',')\n",
    "        for row in reader:\n",
    "            try:\n",
    "                data_train.append([float(x) for x in row[2:]])\n",
    "            except: \n",
    "                header = row\n",
    "                print('The header: ')\n",
    "                print(header[2:])\n",
    "                ValueError\n",
    "    return np.array(data_train)"
   ]
  },
  {
   "cell_type": "code",
   "execution_count": 3,
   "metadata": {
    "collapsed": false
   },
   "outputs": [
    {
     "name": "stdout",
     "output_type": "stream",
     "text": [
      "The header: \n",
      "['gas', 'before1', 'before2', 'peak5', 'sum5', 'peak24', 'sum24', 'mean15', 'hour', 'FH', 'T', 'Q', 'U', 'peak5T', 'diffT', 'std_day', 'std_year', 'kwh', 'kwhpeak5', 'day_year', 'day_week', 'next_day_week']\n"
     ]
    }
   ],
   "source": [
    "path = 'Data/gas/'\n",
    "file = 'train1'\n",
    "data = read_data(path, file)\n",
    "# for this data set, the target column is de first column\n",
    "target_col = 0"
   ]
  },
  {
   "cell_type": "code",
   "execution_count": 4,
   "metadata": {
    "collapsed": true
   },
   "outputs": [],
   "source": [
    "# specify overlap of your sets, or the variance of the gaussian\n",
    "overlap = 0.07\n",
    "# Gaussian, triangle or trapezoid\n",
    "mf = 'Gaussian'\n",
    "# number of clusters per feature\n",
    "Ncentroids = [11,7,7,7,9,9,11,9,11,11,11,11,11,9,11,9,9,9,9,11,7,7]\n",
    "# A name for the FIS file\n",
    "FIS_name='Demo_WM_gas'\n"
   ]
  },
  {
   "cell_type": "markdown",
   "metadata": {},
   "source": [
    "## Training"
   ]
  },
  {
   "cell_type": "code",
   "execution_count": 5,
   "metadata": {
    "collapsed": false
   },
   "outputs": [],
   "source": [
    "# train the FIS\n",
    "FIS.train(FIS_name, data, target_col, mf, Ncentroids, overlap)"
   ]
  },
  {
   "cell_type": "code",
   "execution_count": 6,
   "metadata": {
    "collapsed": true
   },
   "outputs": [],
   "source": [
    "# read in the trained FIS\n",
    "method, mf, overlap, target_centroids, feature_centroids, RB = FIS.read(FIS_name +'.FIS')"
   ]
  },
  {
   "cell_type": "markdown",
   "metadata": {},
   "source": [
    "## Compute the threshold"
   ]
  },
  {
   "cell_type": "code",
   "execution_count": 7,
   "metadata": {
    "collapsed": false
   },
   "outputs": [
    {
     "name": "stdout",
     "output_type": "stream",
     "text": [
      "The header: \n",
      "['before1', 'before2', 'peak5', 'sum5', 'peak24', 'sum24', 'mean15', 'hour', 'FH', 'T', 'Q', 'U', 'peak5T', 'diffT', 'std_day', 'std_year', 'kwh', 'kwhpeak5', 'day_year', 'day_week', 'next_day_week']\n"
     ]
    }
   ],
   "source": [
    "path = 'Data/gas/'\n",
    "file = 'NTH_outliers_2008-2012'\n",
    "anomalies = read_data(path, file)"
   ]
  },
  {
   "cell_type": "code",
   "execution_count": 8,
   "metadata": {
    "collapsed": false
   },
   "outputs": [],
   "source": [
    "# compute threshold (NB takes a lot of time so reduce data size)\n",
    "# if no threshold is given, then it return the mean firing strength of the given data\n",
    "_, _, threshold = FIS.test(anomalies[0:100], mf, overlap, target_centroids, feature_centroids, RB, target_col)"
   ]
  },
  {
   "cell_type": "code",
   "execution_count": 9,
   "metadata": {
    "collapsed": false
   },
   "outputs": [
    {
     "name": "stdout",
     "output_type": "stream",
     "text": [
      "('The mean fring strength of the outliers batch is : ', 3.1357921961082006e-16)\n"
     ]
    }
   ],
   "source": [
    "print('The mean fring strength of the outliers batch is : ', threshold )"
   ]
  },
  {
   "cell_type": "markdown",
   "metadata": {},
   "source": [
    "## Anomaly Classification"
   ]
  },
  {
   "cell_type": "markdown",
   "metadata": {},
   "source": [
    "### True Positives"
   ]
  },
  {
   "cell_type": "code",
   "execution_count": 11,
   "metadata": {
    "collapsed": false
   },
   "outputs": [],
   "source": [
    "# Anomaly classification (NB takes a lot of time so reduce data size)\n",
    "# with a different batch of anomalies\n",
    "_, _, true_positives = FIS.test(anomalies[100:200], mf, overlap, target_centroids, feature_centroids, RB, \n",
    "                                target_col, threshold = threshold )"
   ]
  },
  {
   "cell_type": "code",
   "execution_count": 12,
   "metadata": {
    "collapsed": false
   },
   "outputs": [
    {
     "name": "stdout",
     "output_type": "stream",
     "text": [
      "('The number of true positives is: ', 89)\n"
     ]
    }
   ],
   "source": [
    "print('The number of true positives is: ', true_positives)"
   ]
  },
  {
   "cell_type": "markdown",
   "metadata": {},
   "source": [
    "### False negatives"
   ]
  },
  {
   "cell_type": "code",
   "execution_count": 13,
   "metadata": {
    "collapsed": false
   },
   "outputs": [
    {
     "name": "stdout",
     "output_type": "stream",
     "text": [
      "The header: \n",
      "['gas', 'before1', 'before2', 'peak5', 'sum5', 'peak24', 'sum24', 'mean15', 'hour', 'FH', 'T', 'Q', 'U', 'peak5T', 'diffT', 'std_day', 'std_year', 'kwh', 'kwhpeak5', 'day_year', 'day_week', 'next_day_week']\n"
     ]
    }
   ],
   "source": [
    "path = 'Data/gas/'\n",
    "file = 'test1'\n",
    "data_test = read_data(path, file)"
   ]
  },
  {
   "cell_type": "code",
   "execution_count": 14,
   "metadata": {
    "collapsed": true
   },
   "outputs": [],
   "source": [
    "# Anomaly classification (NB takes a lot of time so reduce data size)\n",
    "# with a different batch of anomalies\n",
    "_, _, false_positives = FIS.test(data_test[100:200], mf, overlap, target_centroids, feature_centroids, RB, \n",
    "                                target_col, threshold = threshold )"
   ]
  },
  {
   "cell_type": "code",
   "execution_count": 15,
   "metadata": {
    "collapsed": false
   },
   "outputs": [
    {
     "name": "stdout",
     "output_type": "stream",
     "text": [
      "('The number of true positives is: ', 1)\n"
     ]
    }
   ],
   "source": [
    "print('The number of true positives is: ', false_positives)"
   ]
  },
  {
   "cell_type": "code",
   "execution_count": null,
   "metadata": {
    "collapsed": true
   },
   "outputs": [],
   "source": []
  }
 ],
 "metadata": {
  "anaconda-cloud": {},
  "kernelspec": {
   "display_name": "Python [default]",
   "language": "python",
   "name": "python2"
  },
  "language_info": {
   "codemirror_mode": {
    "name": "ipython",
    "version": 2
   },
   "file_extension": ".py",
   "mimetype": "text/x-python",
   "name": "python",
   "nbconvert_exporter": "python",
   "pygments_lexer": "ipython2",
   "version": "2.7.12"
  }
 },
 "nbformat": 4,
 "nbformat_minor": 1
}
