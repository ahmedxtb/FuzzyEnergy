{
 "cells": [
  {
   "cell_type": "markdown",
   "metadata": {},
   "source": [
    "## This notebook demonstrates the usage of the Fuzzy Inference System pipeline. It traines a FIS on the gas consumption data and shows the anomaly classification performance on a small test batch. "
   ]
  },
  {
   "cell_type": "code",
   "execution_count": 1,
   "metadata": {
    "collapsed": false
   },
   "outputs": [],
   "source": [
    "import numpy as np\n",
    "import csv\n",
    "import os\n",
    "import sys\n",
    "import matplotlib.pyplot as plt\n",
    "\n",
    "import time\n",
    "\n",
    "# add path of needed code \n",
    "parent_directory = os.path.abspath('..')\n",
    "sys.path.append(parent_directory+'/Code/')\n",
    "\n",
    "from Fuzzification import cluster, scale\n",
    "import Reader\n",
    "import FIS\n",
    "\n",
    "%matplotlib inline"
   ]
  },
  {
   "cell_type": "code",
   "execution_count": 2,
   "metadata": {
    "collapsed": false
   },
   "outputs": [
    {
     "name": "stdout",
     "output_type": "stream",
     "text": [
      "The header: \n",
      "['gas', 'before1', 'before2', 'peak5', 'sum5', 'peak24', 'sum24', 'mean15', 'hour', 'FH', 'T', 'Q', 'U', 'peak5T', 'diffT', 'std_day', 'std_year', 'kwh', 'kwhpeak5', 'day_year', 'day_week', 'next_day_week']\n"
     ]
    }
   ],
   "source": [
    "path = parent_directory +'/Data/gas/'\n",
    "file = 'train1'\n",
    "data = Reader.read_gas_data(path, file)\n",
    "# for this data set, the target column is de first column\n",
    "target_col = 0"
   ]
  },
  {
   "cell_type": "code",
   "execution_count": 3,
   "metadata": {
    "collapsed": true
   },
   "outputs": [],
   "source": [
    "# specify overlap of your sets, or the variance of the gaussian\n",
    "overlap = 0.07\n",
    "# Gaussian, triangle or trapezoid\n",
    "mf = 'Gaussian'\n",
    "# number of clusters per feature\n",
    "number_of_centroids = [11,7,7,7,9,9,11,9,11,11,11,11,11,9,11,9,9,9,9,11,7,7]\n",
    "# A name for the FIS file\n",
    "FIS_name='Demo_WM_gas'"
   ]
  },
  {
   "cell_type": "markdown",
   "metadata": {},
   "source": [
    "## Training"
   ]
  },
  {
   "cell_type": "code",
   "execution_count": 4,
   "metadata": {
    "collapsed": false
   },
   "outputs": [
    {
     "name": "stdout",
     "output_type": "stream",
     "text": [
      "The training took:  43.500887870788574 seconds\n"
     ]
    }
   ],
   "source": [
    "# train the FIS\n",
    "start = time.time()\n",
    "FIS.train(FIS_name, data, target_col, mf, number_of_centroids, overlap)\n",
    "print('The training took: ', time.time() - start, 'seconds')"
   ]
  },
  {
   "cell_type": "code",
   "execution_count": 5,
   "metadata": {
    "collapsed": true
   },
   "outputs": [],
   "source": [
    "# read in the trained FIS\n",
    "method, mf, overlap, target_centroids, feature_centroids, RB = FIS.read(FIS_name +'.FIS')"
   ]
  },
  {
   "cell_type": "markdown",
   "metadata": {},
   "source": [
    "## Compute the threshold"
   ]
  },
  {
   "cell_type": "code",
   "execution_count": 6,
   "metadata": {
    "collapsed": false
   },
   "outputs": [
    {
     "name": "stdout",
     "output_type": "stream",
     "text": [
      "The header: \n",
      "['before1', 'before2', 'peak5', 'sum5', 'peak24', 'sum24', 'mean15', 'hour', 'FH', 'T', 'Q', 'U', 'peak5T', 'diffT', 'std_day', 'std_year', 'kwh', 'kwhpeak5', 'day_year', 'day_week', 'next_day_week']\n"
     ]
    }
   ],
   "source": [
    "path = parent_directory +'/Data/gas/'\n",
    "file = 'NTH_outliers_2008-2012'\n",
    "anomalies = Reader.read_gas_data(path, file)"
   ]
  },
  {
   "cell_type": "code",
   "execution_count": 7,
   "metadata": {
    "collapsed": false
   },
   "outputs": [
    {
     "name": "stdout",
     "output_type": "stream",
     "text": [
      "The testing took:  22.51996898651123 seconds\n"
     ]
    }
   ],
   "source": [
    "# compute threshold (NB takes a lot of time so reduce data size)\n",
    "# if no threshold is given, then it returns the mean firing strength of the given data\n",
    "start = time.time()\n",
    "DATA_SIZE = 100\n",
    "_, _, threshold = FIS.test(anomalies[0:DATA_SIZE], mf, overlap, target_centroids, feature_centroids, RB, target_col)\n",
    "print('The testing took: ', time.time() - start, 'seconds')"
   ]
  },
  {
   "cell_type": "code",
   "execution_count": 8,
   "metadata": {
    "collapsed": false
   },
   "outputs": [
    {
     "name": "stdout",
     "output_type": "stream",
     "text": [
      "The mean fring strength of the outliers batch is :  1.79935065838e-15\n"
     ]
    }
   ],
   "source": [
    "print('The mean fring strength of the outliers batch is : ', threshold )"
   ]
  },
  {
   "cell_type": "markdown",
   "metadata": {},
   "source": [
    "## Anomaly Classification"
   ]
  },
  {
   "cell_type": "markdown",
   "metadata": {},
   "source": [
    "### True Positives"
   ]
  },
  {
   "cell_type": "code",
   "execution_count": 9,
   "metadata": {
    "collapsed": false
   },
   "outputs": [],
   "source": [
    "# Anomaly classification (NB takes a lot of time so reduce data size)\n",
    "# with a different batch of anomalies\n",
    "_, _, true_positives = FIS.test(anomalies[100:200], mf, overlap, target_centroids, feature_centroids, RB, \n",
    "                                target_col, threshold = threshold )"
   ]
  },
  {
   "cell_type": "code",
   "execution_count": 10,
   "metadata": {
    "collapsed": false
   },
   "outputs": [
    {
     "name": "stdout",
     "output_type": "stream",
     "text": [
      "The number of true positives is:  91  out of  100\n"
     ]
    }
   ],
   "source": [
    "print('The number of true positives is: ', true_positives, ' out of ', DATA_SIZE)"
   ]
  },
  {
   "cell_type": "markdown",
   "metadata": {},
   "source": [
    "### False negatives"
   ]
  },
  {
   "cell_type": "code",
   "execution_count": 11,
   "metadata": {
    "collapsed": false
   },
   "outputs": [
    {
     "name": "stdout",
     "output_type": "stream",
     "text": [
      "The header: \n",
      "['gas', 'before1', 'before2', 'peak5', 'sum5', 'peak24', 'sum24', 'mean15', 'hour', 'FH', 'T', 'Q', 'U', 'peak5T', 'diffT', 'std_day', 'std_year', 'kwh', 'kwhpeak5', 'day_year', 'day_week', 'next_day_week']\n"
     ]
    }
   ],
   "source": [
    "path = parent_directory +'/Data/gas/'\n",
    "file = 'test1'\n",
    "data_test = Reader.read_gas_data(path, file)"
   ]
  },
  {
   "cell_type": "code",
   "execution_count": 12,
   "metadata": {
    "collapsed": true
   },
   "outputs": [],
   "source": [
    "# Anomaly classification (NB takes a lot of time so reduce data size)\n",
    "# with a different batch of anomalies\n",
    "_, _, false_negatives = FIS.test(data_test[DATA_SIZE:2*DATA_SIZE], mf, overlap, target_centroids, feature_centroids, RB, \n",
    "                                target_col, threshold = threshold )"
   ]
  },
  {
   "cell_type": "code",
   "execution_count": 13,
   "metadata": {
    "collapsed": false
   },
   "outputs": [
    {
     "name": "stdout",
     "output_type": "stream",
     "text": [
      "The number of false negatives is:  1  out of  100\n"
     ]
    }
   ],
   "source": [
    "print('The number of false negatives is: ', false_negatives, ' out of ', DATA_SIZE)"
   ]
  },
  {
   "cell_type": "code",
   "execution_count": null,
   "metadata": {
    "collapsed": true
   },
   "outputs": [],
   "source": []
  }
 ],
 "metadata": {
  "anaconda-cloud": {},
  "kernelspec": {
   "display_name": "Python 3",
   "language": "python",
   "name": "python3"
  },
  "language_info": {
   "codemirror_mode": {
    "name": "ipython",
    "version": 3
   },
   "file_extension": ".py",
   "mimetype": "text/x-python",
   "name": "python",
   "nbconvert_exporter": "python",
   "pygments_lexer": "ipython3",
   "version": "3.5.2"
  }
 },
 "nbformat": 4,
 "nbformat_minor": 1
}
